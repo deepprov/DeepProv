{
 "cells": [
  {
   "cell_type": "code",
   "execution_count": 54,
   "metadata": {},
   "outputs": [
    {
     "name": "stdout",
     "output_type": "stream",
     "text": [
      "The autoreload extension is already loaded. To reload it, use:\n",
      "  %reload_ext autoreload\n"
     ]
    }
   ],
   "source": [
    "%load_ext autoreload\n",
    "%autoreload 2\n",
    "%reload_ext autoreload"
   ]
  },
  {
   "cell_type": "code",
   "execution_count": 55,
   "metadata": {},
   "outputs": [],
   "source": [
    "from library.Accessor import Accessor\n",
    "from library.metrics import expD, expE,expF,expG,expH,expI, avg_act_diff, compare\n",
    "from library.utils import plotAcrossPredictions, plotAcrossNodes, plotDiff"
   ]
  },
  {
   "cell_type": "code",
   "execution_count": 56,
   "metadata": {},
   "outputs": [
    {
     "data": {
      "text/plain": [
       "\"\\n### Uncomment to use CIFAR10\\ndata='cifar10'\\nFGSM_sample = Accessor('./adversarial/cifar10/FGSM/cifar10_1')\\nPGD_sample = Accessor('./adversarial/cifar10/PGD/cifar10_1')\\nbenign_sample = Accessor('./Benign/cifar10/cifar10_1')\\nground_truth = Accessor('./Ground_truth/cifar10/cifar10_1')\\n\\n\\n### Uncomment to use Cuckoo-Traces\\ndata='cuckoo'\\nFGSM_sample = Accessor('./adversarial//FGSM/')\\nPGD_sample = Accessor('./adversarial//PGD/')\\nbenign_sample = Accessor('./begnign//')\\nground_truth = Accessor('./Ground_truth//')\\n\\n### Uncomment to use Ember\\ndata='Ember'\\nFGSM_sample = Accessor('./adversarial//FGSM/')\\nPGD_sample = Accessor('./adversarial//PGD/')\\nbenign_sample = Accessor('./begnign//')\\nground_truth = Accessor('./Ground_truth//')\\n\""
      ]
     },
     "execution_count": 56,
     "metadata": {},
     "output_type": "execute_result"
    }
   ],
   "source": [
    "#Instantiate and Accessor class with a folder containing activations csv/txt\n",
    "\n",
    "### Uncomment to use MNIST\n",
    "\n",
    "data='cuckoo'\n",
    "FGSM_sample = Accessor('./Adversarial_pth/'+data+'/'+data+'_1'+'/CKO/')\n",
    "benign_sample = Accessor('./Benign_pth/'+data+'/'+data+'_1'+'/benign/')\n",
    "ground_truth = Accessor('./Ground_Truth_pth/'+data+'/'+data+'_1'+'/benign/')\n"
   ]
  },
  {
   "cell_type": "markdown",
   "metadata": {},
   "source": [
    "##### We use the following notations for each graph-based metric adopted for empirical characterization\n",
    " \n",
    " avg_act_diff: Compute the difference between model activations of different types of data (e.g. FGSM, Benign, etc) <br>\n",
    " ExpD : Average number of Active Nodes <br>\n",
    " ExpE : Average Activations Weight<br>\n",
    " ExpF : Always Active Nodes <br>\n",
    " ExpG : Frequency Distances<br>\n",
    " ExpH : Dispersation Index<br>\n",
    " ExpI : Entropy Index<br>"
   ]
  },
  {
   "cell_type": "code",
   "execution_count": 57,
   "metadata": {},
   "outputs": [],
   "source": [
    "gt = {'D':[],'E':[],'H':[],'I':[], 'G':[] , 'F':[]}\n",
    "ben = {'D':[],'E':[],'H':[],'I':[], 'G':[], 'F':[]}\n",
    "FGSM={'D':[],'E':[],'H':[],'I':[], 'G':[], 'F':[]}\n",
    "PGD={'D':[],'E':[],'H':[],'I':[], 'G':[], 'F':[]}\n",
    "\n",
    "FGSM_diff=[]\n",
    "PGD_diff=[]\n",
    "adv_diff=[]\n",
    "\n",
    "PRED_RANGE = 10\n",
    "nb_samples=1000"
   ]
  },
  {
   "cell_type": "code",
   "execution_count": 58,
   "metadata": {},
   "outputs": [
    {
     "name": "stdout",
     "output_type": "stream",
     "text": [
      "Loaded 2293 Activations for Prediction : 0\n",
      "Loaded 3 Activations for Prediction : 0\n",
      "Loaded 5001 Activations for Prediction : 0\n",
      "label =  0 \n",
      "\n",
      "the average similarity between ben and FGSM is 6.451612903225807% \n",
      "Loaded 2300 Activations for Prediction : 1\n",
      "Loaded 4848 Activations for Prediction : 1\n",
      "Loaded 5001 Activations for Prediction : 1\n",
      "label =  1 \n",
      "\n",
      "the average similarity between ben and FGSM is 23.769985974754654% \n"
     ]
    }
   ],
   "source": [
    "gt = {'D':[],'E':[],'H':[],'I':[], 'G':[] , 'F':[]}\n",
    "ben = {'D':[],'E':[],'H':[],'I':[], 'G':[], 'F':[]}\n",
    "FGSM={'D':[],'E':[],'H':[],'I':[], 'G':[], 'F':[]}\n",
    "PGD={'D':[],'E':[],'H':[],'I':[], 'G':[], 'F':[]}\n",
    "\n",
    "FGSM_diff=[]\n",
    "PGD_diff=[]\n",
    "adv_diff=[]\n",
    "\n",
    "PRED_RANGE = 2\n",
    "nb_samples=5000\n",
    "\n",
    "for i in range(PRED_RANGE):\n",
    "    \n",
    "    ## Loading activations by prediction\n",
    "    benign_sample_act = benign_sample.get_label_by_prediction(target_prediction=i,limit=nb_samples)   \n",
    "    FGSM_sample_act = FGSM_sample.get_label_by_prediction(target_prediction=i,limit=nb_samples)\n",
    "    #PGD_sample_act = PGD_sample.get_label_by_prediction(target_prediction=i,limit=nb_samples)\n",
    "    ground_truth_act = ground_truth.get_label_by_prediction(target_prediction=i,limit=nb_samples)\n",
    "    \n",
    "    print('label = ',i,'\\n')\n",
    "    print(\"the average similarity between ben and FGSM is {}% \".format(compare(benign_sample_act, FGSM_sample_act,nb_sample=nb_samples)))\n",
    "    #print(\"the average similarity between ben and PGD is {}% \".format(compare(benign_sample_act, PGD_sample_act,nb_sample=nb_samples)))\n",
    "    #print(\"the average similarity between PGD and FGSM is {}% \".format(compare(FGSM_sample_act, PGD_sample_act,nb_sample=nb_samples)))\n",
    "    \n",
    "    FGSM_diff.append(avg_act_diff(benign_sample_act,FGSM_sample_act,nb_sample=nb_samples))\n",
    "    #PGD_diff.append(avg_act_diff(benign_sample_act,PGD_sample_act,nb_sample=nb_samples))\n",
    "    #adv_diff.append(avg_act_diff(FGSM_sample_act,PGD_sample_act,nb_sample=nb_samples))\n",
    "    #plotDiff(FGSM_diff[i],adv_diff[i],Node_range=len(FGSM_diff[i]),data=data,label=i)\n",
    "    \n",
    "    gt['D'].append(expD(ground_truth_act))\n",
    "    ben['D'].append(expD(benign_sample_act))\n",
    "    FGSM['D'].append(expD(FGSM_sample_act))\n",
    "    #PGD['D'].append(expD(PGD_sample_act))\n",
    "    \n",
    "    gt['E'].append(expE(ground_truth_act))\n",
    "    ben['E'].append(expE(benign_sample_act))\n",
    "    FGSM['E'].append(expE(FGSM_sample_act))\n",
    "    #PGD['E'].append(expE(PGD_sample_act))\n",
    "    \n",
    "    gt['H'].append(expH(ground_truth_act))\n",
    "    ben['H'].append(expH(benign_sample_act))\n",
    "    FGSM['H'].append(expH(FGSM_sample_act))\n",
    "    #PGD['H'].append(expH(PGD_sample_act))\n",
    "    \n",
    "    gt['I'].append(expI(ground_truth_act))\n",
    "    ben['I'].append(expI(benign_sample_act))\n",
    "    FGSM['I'].append(expI(FGSM_sample_act))\n",
    "    #PGD['I'].append(expI(PGD_sample_act))\n",
    "    \n",
    "    gt['G'].append(list(expG(ground_truth_act)))\n",
    "    ben['G'].append(list(expG(benign_sample_act)))\n",
    "    FGSM['G'].append(list(expG(FGSM_sample_act)))\n",
    "    #PGD['G'].append(list(expG(PGD_sample_act)))\n",
    "    \n",
    "    gt['F'].append(expF(ground_truth_act))\n",
    "    ben['F'].append(expF(benign_sample_act))\n",
    "    FGSM['F'].append(expF(FGSM_sample_act))\n",
    "    #PGD['F'].append(expF(PGD_sample_act))"
   ]
  },
  {
   "cell_type": "markdown",
   "metadata": {},
   "source": [
    "## The Average Number of Active Nodes"
   ]
  },
  {
   "cell_type": "code",
   "execution_count": 65,
   "metadata": {},
   "outputs": [
    {
     "data": {
      "image/png": "[encoded data removed]",
      "text/plain": [
       "<Figure size 432x288 with 1 Axes>"
      ]
     },
     "metadata": {
      "needs_background": "light"
     },
     "output_type": "display_data"
    }
   ],
   "source": [
    "adv=[FGSM['D']]\n",
    "plotAcrossPredictions(gt['D'],'Average Number of active nodes',ben['D'],adv,PRED_RANGE,data,attack=\"BitFlip\")"
   ]
  },
  {
   "cell_type": "markdown",
   "metadata": {},
   "source": [
    "**Number of always active nodes per label**"
   ]
  },
  {
   "cell_type": "code",
   "execution_count": 61,
   "metadata": {},
   "outputs": [
    {
     "data": {
      "image/png": "[encoded data removed]",
      "text/plain": [
       "<Figure size 432x288 with 1 Axes>"
      ]
     },
     "metadata": {
      "needs_background": "light"
     },
     "output_type": "display_data"
    }
   ],
   "source": [
    "Nb_gt=[]\n",
    "Nb_ben=[]\n",
    "Nb_FGSM=[]\n",
    "Nb_PGD=[]\n",
    "\n",
    "for val in gt['F']:\n",
    "    Nb_gt.append(len(val))\n",
    "    \n",
    "for val in ben['F']:\n",
    "    Nb_ben.append(len(val))\n",
    "    \n",
    "for val in FGSM['F']:\n",
    "    Nb_FGSM.append(len(val))\n",
    "    \n",
    "\n",
    "    \n",
    "adv=[Nb_FGSM]\n",
    "\n",
    "plotAcrossPredictions(Nb_gt,'Number of always active nodes',Nb_ben,adv,PRED_RANGE,data,attack=\"BitFlip\")"
   ]
  },
 
  {
   "cell_type": "markdown",
   "metadata": {},
   "source": [
    "## The Dispersation Index"
   ]
  },
  {
   "cell_type": "code",
   "execution_count": 64,
   "metadata": {},
   "outputs": [
    {
     "data": {
      "image/png": "[encoded data removed]",
      "text/plain": [
       "<Figure size 432x288 with 1 Axes>"
      ]
     },
     "metadata": {
      "needs_background": "light"
     },
     "output_type": "display_data"
    }
   ],
   "source": [
    "adv=[FGSM['H']]\n",
    "plotAcrossPredictions(gt['H'],'Average Activations Weight',ben['H'],adv,PRED_RANGE,data,attack=\"BitFlip\")"
   ]
  },
  {
   "cell_type": "markdown",
   "metadata": {},
   "source": [
    "## The Entropy Index"
   ]
  },
  {
   "cell_type": "code",
   "execution_count": 63,
   "metadata": {
    "scrolled": true
   },
   "outputs": [
    {
     "data": {
      "image/png": "[encoded data removed]",
      "text/plain": [
       "<Figure size 432x288 with 1 Axes>"
      ]
     },
     "metadata": {
      "needs_background": "light"
     },
     "output_type": "display_data"
    }
   ],
   "source": [
    "adv=[FGSM['I']]\n",
    "plotAcrossPredictions(gt['I'],'Entropy',ben['I'],adv,PRED_RANGE,data,attack=\"BitFlip\")"
   ]
  }
 ],
 "metadata": {
  "kernelspec": {
   "display_name": "Python 3 (ipykernel)",
   "language": "python",
   "name": "python3"
  },
  "language_info": {
   "codemirror_mode": {
    "name": "ipython",
    "version": 3
   },
   "file_extension": ".py",
   "mimetype": "text/x-python",
   "name": "python",
   "nbconvert_exporter": "python",
   "pygments_lexer": "ipython3",
   "version": "3.10.12"
  }
 },
 "nbformat": 4,
 "nbformat_minor": 2
}
